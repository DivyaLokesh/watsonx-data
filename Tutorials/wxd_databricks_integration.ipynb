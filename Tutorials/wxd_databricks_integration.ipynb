{
 "cells": [
  {
   "cell_type": "markdown",
   "metadata": {
    "application/vnd.databricks.v1+cell": {
     "cellMetadata": {
      "byteLimit": 2048000,
      "rowLimit": 10000
     },
     "inputWidgets": {},
     "nuid": "02c2a8cc-bb40-49e5-b3e5-02f1768ae3fc",
     "showTitle": false,
     "tableResultSettingsMap": {},
     "title": ""
    }
   },
   "source": [
    "# Demo: Accessing iceberg tables managed by watsonx.data using Databricks Spark on AWS "
   ]
  },
  {
   "cell_type": "code",
   "execution_count": 0,
   "metadata": {
    "application/vnd.databricks.v1+cell": {
     "cellMetadata": {},
     "inputWidgets": {},
     "nuid": "d2bff421-d6f9-47aa-9d19-b0a71b8ed4ac",
     "showTitle": false,
     "tableResultSettingsMap": {},
     "title": ""
    }
   },
   "outputs": [],
   "source": [
    "# let's create a table dbr_unity_table within default unity catalog\n",
    "spark.sql(\"create table if not exists dbr_unity_table (id int)\");"
   ]
  },
  {
   "cell_type": "code",
   "execution_count": 0,
   "metadata": {
    "application/vnd.databricks.v1+cell": {
     "cellMetadata": {
      "byteLimit": 2048000,
      "rowLimit": 10000
     },
     "inputWidgets": {},
     "nuid": "a3e807a1-5fe2-4fc8-977e-6265f7441c5e",
     "showTitle": false,
     "tableResultSettingsMap": {},
     "title": ""
    }
   },
   "outputs": [
    {
     "output_type": "stream",
     "name": "stdout",
     "output_type": "stream",
     "text": [
      "+--------+---------------+-----------+\n|database|      tableName|isTemporary|\n+--------+---------------+-----------+\n| default|dbr_unity_table|      false|\n+--------+---------------+-----------+\n\n"
     ]
    }
   ],
   "source": [
    "# Show tables in the catalog. This connects to databricks Unity catalog by default\n",
    "spark.sql(\"show tables\").show()"
   ]
  },
  {
   "cell_type": "code",
   "execution_count": 0,
   "metadata": {
    "application/vnd.databricks.v1+cell": {
     "cellMetadata": {
      "byteLimit": 2048000,
      "rowLimit": 10000
     },
     "inputWidgets": {},
     "nuid": "3e67089b-6675-4b06-a1c5-c0c4942c62aa",
     "showTitle": false,
     "tableResultSettingsMap": {},
     "title": ""
    }
   },
   "outputs": [
    {
     "output_type": "stream",
     "name": "stdout",
     "output_type": "stream",
     "text": [
      "+-----------------+-----------------+\n|num_affected_rows|num_inserted_rows|\n+-----------------+-----------------+\n|                2|                2|\n+-----------------+-----------------+\n\nSELECT * FROM spark_catalog.default.dbr_unity_table\n+---+\n| id|\n+---+\n|  1|\n|  2|\n|  1|\n|  2|\n+---+\n\n"
     ]
    }
   ],
   "source": [
    "\n",
    "spark.sql(\"insert into dbr_unity_table values (1), (2)\").show()\n",
    "\n",
    "print(\"SELECT * FROM spark_catalog.default.dbr_unity_table\")\n",
    "spark.sql(\"SELECT * FROM dbr_unity_table\").show()"
   ]
  },
  {
   "cell_type": "markdown",
   "metadata": {
    "application/vnd.databricks.v1+cell": {
     "cellMetadata": {
      "byteLimit": 2048000,
      "rowLimit": 10000
     },
     "inputWidgets": {},
     "nuid": "c98f242b-67c5-4613-aa98-1e6a9030b3fd",
     "showTitle": false,
     "tableResultSettingsMap": {},
     "title": ""
    }
   },
   "source": [
    "#### Set watsonx.data metastore as the metastore for the default catalog"
   ]
  },
  {
   "cell_type": "code",
   "execution_count": 0,
   "metadata": {
    "application/vnd.databricks.v1+cell": {
     "cellMetadata": {
      "byteLimit": 2048000,
      "rowLimit": 10000
     },
     "inputWidgets": {},
     "nuid": "2b0a30d0-1d2f-4b9d-a315-02571c741182",
     "showTitle": false,
     "tableResultSettingsMap": {},
     "title": ""
    }
   },
   "outputs": [],
   "source": [
    "# Set confidential configurations\n",
    "spark.conf.set(\"spark.sql.catalog.iceberg_data_demo.header.Authorization\",\"Bearer <token>\");\n",
    "spark.conf.set(\"spark.sql.catalog.iceberg_data_demo.s3.endpoint\",\"https://s3.us-south.cloud-object-storage.appdomain.cloud\");\n",
    "spark.conf.set(\"spark.sql.catalog.iceberg_data_demo.client.region\",\"us-south\");\n",
    "spark.conf.set(\"spark.sql.catalog.iceberg_data_demo.s3.access-key-id\",\"<access-key>\");\n",
    "spark.conf.set(\"spark.sql.catalog.iceberg_data_demo.s3.secret-access-key\",\"<secret-key>\");"
   ]
  },
  {
   "cell_type": "code",
   "execution_count": 0,
   "metadata": {
    "application/vnd.databricks.v1+cell": {
     "cellMetadata": {
      "byteLimit": 2048000,
      "rowLimit": 10000
     },
     "inputWidgets": {},
     "nuid": "c4e62b00-c6a4-4d59-b50d-d857bf0ef00d",
     "showTitle": false,
     "tableResultSettingsMap": {},
     "title": ""
    }
   },
   "outputs": [],
   "source": [
    "# Set watsonx.data metastore as the metastore for spark from now on\n",
    "spark.conf.set(\"spark.sql.iceberg.vectorization.enabled\",\"false\");\n",
    "\n",
    "spark.conf.set(\"spark.sql.catalog.<wxd-catalog>\",\"org.apache.iceberg.spark.SparkCatalog\");\n",
    "spark.conf.set(\"spark.sql.catalog.<wxd-catalog>.type\",\"rest\");\n",
    "\n",
    "spark.conf.set(\"spark.sql.catalog.<wxd-catalog>.warehouse\",\"<wxd-catalog>\");\n",
    "spark.conf.set(\"spark.sql.catalog.<wxd-catalog>.s3.path-style-access\",\"true\");\n",
    "# spark.conf.set(\"spark.sql.catalog.iceberg_data_demo.io-impl\",\"org.apache.iceberg.aws.s3.S3FileIO\");\n",
    "\n",
    "\n",
    "spark.conf.set(\"spark.sql.catalog.<wxd-catalog>.uri\",\"https://<mds-rest-endpoint>/mds/iceberg\");\n",
    "spark.conf.set(\"spark.sql.defaultCatalog\", \"<wxd-catalog>\");\n"
   ]
  },
  {
   "cell_type": "markdown",
   "metadata": {
    "application/vnd.databricks.v1+cell": {
     "cellMetadata": {
      "byteLimit": 2048000,
      "rowLimit": 10000
     },
     "inputWidgets": {},
     "nuid": "ad7371e6-ef38-40bb-afb9-e2a7a68edc35",
     "showTitle": false,
     "tableResultSettingsMap": {},
     "title": ""
    }
   },
   "source": [
    "#### Now whatever you query will come from watsonx.data catalog"
   ]
  },
  {
   "cell_type": "code",
   "execution_count": 0,
   "metadata": {
    "application/vnd.databricks.v1+cell": {
     "cellMetadata": {
      "byteLimit": 2048000,
      "rowLimit": 10000
     },
     "inputWidgets": {},
     "nuid": "d12c4ddb-d1f7-456a-b391-5139e61dc508",
     "showTitle": false,
     "tableResultSettingsMap": {},
     "title": ""
    }
   },
   "outputs": [
    {
     "output_type": "stream",
     "name": "stdout",
     "output_type": "stream",
     "text": [
      "show schemas\n+------------+\n|databaseName|\n+------------+\n|    wxd_demo|\n|      sports|\n+------------+\n\nUSE wxd_demo and show tables\n+--------+-------------------+-----------+\n|database|          tableName|isTemporary|\n+--------+-------------------+-----------+\n|wxd_demo|merge_on_read_table|      false|\n|wxd_demo|copy_on_write_table|      false|\n+--------+-------------------+-----------+\n\n"
     ]
    }
   ],
   "source": [
    "spark.sql(\"USE <wxd-catalog>\")\n",
    "print(\"show schemas\")\n",
    "spark.sql(\"show schemas\").show()\n",
    "\n",
    "\n",
    "print(\"USE <wxd-schema> and show tables\")\n",
    "spark.sql(\"USE wxd_demo\")\n",
    "spark.sql(\"show tables\").show()"
   ]
  },
  {
   "cell_type": "markdown",
   "metadata": {
    "application/vnd.databricks.v1+cell": {
     "cellMetadata": {},
     "inputWidgets": {},
     "nuid": "305f8523-a1c4-4ddf-82bd-b0aed67695d3",
     "showTitle": false,
     "tableResultSettingsMap": {},
     "title": ""
    }
   },
   "source": [
    "**QUERY SAME ICEBERG TABLE CREATED IN watsonx.data from the Z through Datagate**"
   ]
  },
  {
   "cell_type": "code",
   "execution_count": 0,
   "metadata": {
    "application/vnd.databricks.v1+cell": {
     "cellMetadata": {
      "byteLimit": 2048000,
      "rowLimit": 10000
     },
     "inputWidgets": {},
     "nuid": "bc8f237d-e891-41ab-834e-0f2d387409de",
     "showTitle": false,
     "tableResultSettingsMap": {},
     "title": ""
    }
   },
   "outputs": [
    {
     "output_type": "stream",
     "name": "stdout",
     "output_type": "stream",
     "text": [
      "select * from merge_on_read_table\n+---+----------------------+\n|id |name                  |\n+---+----------------------+\n|1  |wxd-merge-on-read-data|\n|2  |wxd-merge-on-read-data|\n+---+----------------------+\n\n"
     ]
    }
   ],
   "source": [
    "print(\"select * from <wxd-table>\")\n",
    "spark.sql(\"select * from <wxd-table>\").show(truncate=False)"
   ]
  },
  {
   "cell_type": "markdown",
   "metadata": {
    "application/vnd.databricks.v1+cell": {
     "cellMetadata": {},
     "inputWidgets": {},
     "nuid": "fa529a1f-7ef8-4a79-b2c7-d82da61fab5f",
     "showTitle": false,
     "tableResultSettingsMap": {},
     "title": ""
    }
   },
   "source": [
    "**ACCESSING ICEBERG TABLES with mode COPY ON WRITE**"
   ]
  },
  {
   "cell_type": "code",
   "execution_count": 0,
   "metadata": {
    "application/vnd.databricks.v1+cell": {
     "cellMetadata": {
      "byteLimit": 2048000,
      "rowLimit": 10000
     },
     "inputWidgets": {},
     "nuid": "436b380b-8860-4f3b-abec-84ae1a265ce3",
     "showTitle": false,
     "tableResultSettingsMap": {},
     "title": ""
    }
   },
   "outputs": [
    {
     "output_type": "stream",
     "name": "stdout",
     "output_type": "stream",
     "text": [
      "select * from copy_on_write_table\n+---+----------------------+\n|id |name                  |\n+---+----------------------+\n|1  |wxd-copy-on-write-data|\n|2  |wxd-copy-on-write-data|\n+---+----------------------+\n\n"
     ]
    }
   ],
   "source": [
    "print(\"select * from copy_on_write_table\")\n",
    "spark.sql(\"select * from copy_on_write_table\").show(truncate=False)"
   ]
  },
  {
   "cell_type": "markdown",
   "metadata": {
    "application/vnd.databricks.v1+cell": {
     "cellMetadata": {},
     "inputWidgets": {},
     "nuid": "89b90821-64f5-4f87-99ef-c551aa760c84",
     "showTitle": false,
     "tableResultSettingsMap": {},
     "title": ""
    }
   },
   "source": [
    "**You can also INSERT data into watsonx.data tables using DATABRICKS SPARK**"
   ]
  },
  {
   "cell_type": "code",
   "execution_count": 0,
   "metadata": {
    "application/vnd.databricks.v1+cell": {
     "cellMetadata": {
      "byteLimit": 2048000,
      "rowLimit": 10000
     },
     "inputWidgets": {},
     "nuid": "3245479f-103a-4d14-83f3-c209efddc148",
     "showTitle": false,
     "tableResultSettingsMap": {},
     "title": ""
    }
   },
   "outputs": [
    {
     "output_type": "stream",
     "name": "stdout",
     "output_type": "stream",
     "text": [
      "insert into unity_to_wxd VALUES (1, 'unity-data')\nselect * from unity_to_wxd\n+---+----------+\n| id|      name|\n+---+----------+\n|  1|unity-data|\n+---+----------+\n\n"
     ]
    }
   ],
   "source": [
    "print(\"insert into unity_to_wxd VALUES (1, 'unity-data')\")\n",
    "spark.sql(\"insert into unity_to_wxd VALUES (1, 'unity-data')\")\n",
    "\n",
    "print(\"select * from unity_to_wxd\")\n",
    "spark.sql(\"select * from unity_to_wxd\").show()"
   ]
  },
  {
   "cell_type": "markdown",
   "metadata": {
    "application/vnd.databricks.v1+cell": {
     "cellMetadata": {
      "byteLimit": 2048000,
      "rowLimit": 10000
     },
     "inputWidgets": {},
     "nuid": "24a7ab6b-5873-4a49-bc12-ec5dd6ae86f6",
     "showTitle": false,
     "tableResultSettingsMap": {},
     "title": ""
    }
   },
   "source": [
    "#### You can also join tables from watsonx.data and what is there in Databricks Unity catalog!"
   ]
  },
  {
   "cell_type": "code",
   "execution_count": 0,
   "metadata": {
    "application/vnd.databricks.v1+cell": {
     "cellMetadata": {
      "byteLimit": 2048000,
      "rowLimit": 10000
     },
     "inputWidgets": {},
     "nuid": "59f2cb57-d672-4d4f-a308-41a57dc75d6b",
     "showTitle": false,
     "tableResultSettingsMap": {},
     "title": ""
    }
   },
   "outputs": [
    {
     "output_type": "stream",
     "name": "stdout",
     "output_type": "stream",
     "text": [
      "+---+--------------------+---+\n| id|                name| id|\n+---+--------------------+---+\n|  1|wxd-merge-on-read...|  1|\n|  2|wxd-merge-on-read...|  2|\n+---+--------------------+---+\n\n"
     ]
    }
   ],
   "source": [
    "#Referring tables in Unity catalog with fully qualified name as default spark catalog is set to the one in watsonx.data\n",
    "spark.sql(\"select * from <wxd-catalog>.<wxd-schema>.<wxd-table> mor JOIN spark_catalog.default.<dbr_unity_table> dbr_unity ON dbr_unity.id=mor.id\").show()"
   ]
  },
  {
   "cell_type": "code",
   "execution_count": 0,
   "metadata": {
    "application/vnd.databricks.v1+cell": {
     "cellMetadata": {
      "byteLimit": 2048000,
      "rowLimit": 10000
     },
     "inputWidgets": {},
     "nuid": "9dce805f-e626-49ce-889f-6b514e882d69",
     "showTitle": false,
     "tableResultSettingsMap": {},
     "title": ""
    }
   },
   "outputs": [
    {
     "output_type": "stream",
     "name": "stdout",
     "output_type": "stream",
     "text": [
      "Cleaned up the tables\n"
     ]
    }
   ],
   "source": [
    "# Clean up the demo\n",
    "\n",
    "# spark.sql(\"delete from wxd_demo.unity_to_wxd\")\n",
    "spark.sql(\"delete from spark_catalog.default.dbr_unity_table\")\n",
    "# spark.sql(\"delete from wxd_demo.merge_on_read_table\")\n",
    "# spark.sql(\"delete from wxd_demo.copy_on_write_table\")\n",
    "print (\"Cleaned up the tables\")"
   ]
  }
 ],
 "metadata": {
  "application/vnd.databricks.v1+notebook": {
   "computePreferences": null,
   "dashboards": [],
   "environmentMetadata": {
    "base_environment": "",
    "environment_version": "2"
   },
   "language": "python",
   "notebookMetadata": {
    "pythonIndentUnit": 4
   },
   "notebookName": "wxd_databricks_integration_hemant",
   "widgets": {}
  },
  "language_info": {
   "name": "python"
  }
 },
 "nbformat": 4,
 "nbformat_minor": 0
}