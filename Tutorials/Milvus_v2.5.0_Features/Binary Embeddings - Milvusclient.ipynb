{
 "cells": [
  {
   "cell_type": "markdown",
   "metadata": {},
   "source": [
    "# MILVUS Demo - Binary Embedding\n",
    "\n",
    "# Use Binary Embedding to Search Using Milvus in watsonx.data\n",
    "\n",
    "## Disclaimers\n",
    "- Use only Projects and Spaces that are available in watsonx context.\n",
    "\n",
    "## Overview\n",
    "### Audience\n",
    "This notebook demonstrates how to implement Binary Embedding.\n",
    "Binary embeddings are compressed vector representations where each dimension is stored as a single bit (0 or 1) instead of floating-point numbers.\n",
    "The scenario presented in this notebook shows how to use Binary embeddings during search.\n",
    "\n",
    "Some familiarity with Python programming, search algorithms, and basic machine learning concepts is recommended. The code runs with Python 3.10 or later.\n",
    "### Learning goal\n",
    "This notebook demonstrates Milvus Binary Embedding support in watsonx.data, introducing commands for:\n",
    "- Connecting to Milvus\n",
    "- Creating collections\n",
    "- Creating indexes\n",
    "- Generate Embeddings\n",
    "- Ingesting data\n",
    "- Data retrieval\n",
    "\n",
    "\n",
    "### About Milvus \n",
    "\n",
    "Milvus is an open-source vector database designed specifically for scalable similarity search and AI applications. It's a powerful platform that enables efficient storage, indexing, and retrieval of vector embeddings, which are crucial in modern machine learning and artificial intelligence tasks.[ To know more, visit Milvus Documentation](https://www.ibm.com/docs/en/watsonx/watsonxdata/2.1.x?topic=components-milvus)\n",
    "\n",
    "### Milvus: Three Fundamental Steps\n",
    "\n",
    "#### 1. Data Preparation\n",
    "Collect and convert your data into high-dimensional vector embeddings. These vectors are typically generated using machine learning models like neural networks, which transform text, images, audio, or other data types into dense numerical representations that capture semantic meaning and relationships.\n",
    "\n",
    "#### 2. Vector Insertion\n",
    "Load the dense vector embeddings and sparse vector embeddings into Milvus collections or partitions within a database. Milvus creates indexes to optimize subsequent search operations, supporting various indexing algorithms like IVF-FLAT, HNSW, etc., based on the definition.\n",
    "\n",
    "#### 3. Similarity Search\n",
    "Perform vector similarity searches by providing a query vector and a reranking weight. Milvus will rapidly return the most similar vectors from the collection or partitions based on the defined metrics like cosine similarity, Euclidean distance, or inner product and the reranking weight.\n",
    "\n",
    "### What is Binary Embedding?\n",
    "Binary embeddings are compressed vector representations where each dimension is stored as a single bit (0 or 1) instead of floating-point numbers. Binary embeddings are stored as BINARY_VECTOR data types and can be indexed using specialized indexing methods like BIN_FLAT and BIN_IVF_FLAT. In scenarios where memory optimization is a priority, speed is more important than accuracy or data is naturally binary this could be used.\n",
    "\n",
    "### Key Workflow\n",
    "\n",
    "1. **Definition** (once)\n",
    "2. **Ingestion** (once)\n",
    "3. **Retrieve relevant passage(s)** (for every user query)\n",
    "\n",
    "## Contents\n",
    "\n",
    "- Environment Setup\n",
    "- Install packages\n",
    "- Document data loading\n",
    "- Create connection\n",
    "- Ingest data\n",
    "- Retrieve relevant data\n",
    "\n",
    "## Environment Setup\n",
    "Before using the sample code in this notebook, complete the following setup tasks:\n",
    "\n",
    "- Create a Watsonx.data instance (a free plan is offered)\n",
    "  - Information about creating a watsonx.data instance can be found [here](https://www.ibm.com/docs/en/watsonx/watsonxdata/2.0.x)"
   ]
  },
  {
   "cell_type": "markdown",
   "metadata": {},
   "source": [
    "## Install required packages"
   ]
  },
  {
   "cell_type": "code",
   "execution_count": 20,
   "metadata": {},
   "outputs": [
    {
     "name": "stderr",
     "output_type": "stream",
     "text": [
      "huggingface/tokenizers: The current process just got forked, after parallelism has already been used. Disabling parallelism to avoid deadlocks...\n",
      "To disable this warning, you can either:\n",
      "\t- Avoid using `tokenizers` before the fork if possible\n",
      "\t- Explicitly set the environment variable TOKENIZERS_PARALLELISM=(true | false)\n"
     ]
    }
   ],
   "source": [
    "%%capture\n",
    "!pip install numpy"
   ]
  },
  {
   "cell_type": "code",
   "execution_count": 21,
   "metadata": {},
   "outputs": [
    {
     "name": "stderr",
     "output_type": "stream",
     "text": [
      "huggingface/tokenizers: The current process just got forked, after parallelism has already been used. Disabling parallelism to avoid deadlocks...\n",
      "To disable this warning, you can either:\n",
      "\t- Avoid using `tokenizers` before the fork if possible\n",
      "\t- Explicitly set the environment variable TOKENIZERS_PARALLELISM=(true | false)\n"
     ]
    }
   ],
   "source": [
    "%%capture\n",
    "!pip install torch"
   ]
  },
  {
   "cell_type": "code",
   "execution_count": 22,
   "metadata": {},
   "outputs": [
    {
     "name": "stderr",
     "output_type": "stream",
     "text": [
      "huggingface/tokenizers: The current process just got forked, after parallelism has already been used. Disabling parallelism to avoid deadlocks...\n",
      "To disable this warning, you can either:\n",
      "\t- Avoid using `tokenizers` before the fork if possible\n",
      "\t- Explicitly set the environment variable TOKENIZERS_PARALLELISM=(true | false)\n"
     ]
    }
   ],
   "source": [
    "%%capture\n",
    "!pip install sentence-transformers"
   ]
  },
  {
   "cell_type": "markdown",
   "metadata": {},
   "source": [
    "### Install Pymilvus SDK"
   ]
  },
  {
   "cell_type": "code",
   "execution_count": 23,
   "metadata": {},
   "outputs": [
    {
     "name": "stderr",
     "output_type": "stream",
     "text": [
      "huggingface/tokenizers: The current process just got forked, after parallelism has already been used. Disabling parallelism to avoid deadlocks...\n",
      "To disable this warning, you can either:\n",
      "\t- Avoid using `tokenizers` before the fork if possible\n",
      "\t- Explicitly set the environment variable TOKENIZERS_PARALLELISM=(true | false)\n"
     ]
    },
    {
     "name": "stdout",
     "output_type": "stream",
     "text": [
      "Name: pymilvus\n",
      "Version: 2.5.3\n",
      "Summary: Python Sdk for Milvus\n",
      "Home-page: \n",
      "Author: \n",
      "Author-email: Milvus Team <milvus-team@zilliz.com>\n",
      "License: \n",
      "Location: /opt/homebrew/lib/python3.11/site-packages\n",
      "Requires: grpcio, milvus-lite, pandas, protobuf, python-dotenv, setuptools, ujson\n",
      "Required-by: \n",
      "Note: you may need to restart the kernel to use updated packages.\n"
     ]
    }
   ],
   "source": [
    "# !pip install pymilvus\n",
    "# Restart Kernal\n",
    "%pip show pymilvus"
   ]
  },
  {
   "cell_type": "markdown",
   "metadata": {},
   "source": [
    "### Import required packages"
   ]
  },
  {
   "cell_type": "code",
   "execution_count": 24,
   "metadata": {},
   "outputs": [],
   "source": [
    "import pandas as pd\n",
    "from sklearn.feature_extraction.text import TfidfVectorizer\n",
    "from sklearn.preprocessing import Binarizer\n",
    "import numpy as np\n",
    "from sentence_transformers import SentenceTransformer\n",
    "import sys\n",
    "from pymilvus import utility"
   ]
  },
  {
   "cell_type": "markdown",
   "metadata": {},
   "source": [
    "## Preparing data"
   ]
  },
  {
   "cell_type": "code",
   "execution_count": 25,
   "metadata": {},
   "outputs": [
    {
     "data": {
      "text/html": [
       "<div>\n",
       "<style scoped>\n",
       "    .dataframe tbody tr th:only-of-type {\n",
       "        vertical-align: middle;\n",
       "    }\n",
       "\n",
       "    .dataframe tbody tr th {\n",
       "        vertical-align: top;\n",
       "    }\n",
       "\n",
       "    .dataframe thead th {\n",
       "        text-align: right;\n",
       "    }\n",
       "</style>\n",
       "<table border=\"1\" class=\"dataframe\">\n",
       "  <thead>\n",
       "    <tr style=\"text-align: right;\">\n",
       "      <th></th>\n",
       "      <th>question</th>\n",
       "      <th>answer</th>\n",
       "    </tr>\n",
       "  </thead>\n",
       "  <tbody>\n",
       "    <tr>\n",
       "      <th>0</th>\n",
       "      <td>what if i forget my credential?</td>\n",
       "      <td>if you forget your credential, reset it by goi...</td>\n",
       "    </tr>\n",
       "    <tr>\n",
       "      <th>1</th>\n",
       "      <td>what is the format a password should follow ?</td>\n",
       "      <td>a password should have atleast 8 characters wh...</td>\n",
       "    </tr>\n",
       "    <tr>\n",
       "      <th>2</th>\n",
       "      <td>What are the shipping options?</td>\n",
       "      <td>We offer standard, expedited, and same-day shi...</td>\n",
       "    </tr>\n",
       "    <tr>\n",
       "      <th>3</th>\n",
       "      <td>How do I track my order?</td>\n",
       "      <td>To track your order, visit the 'Order History'...</td>\n",
       "    </tr>\n",
       "    <tr>\n",
       "      <th>4</th>\n",
       "      <td>What is the return policy?</td>\n",
       "      <td>You can return items within 30 days of purchas...</td>\n",
       "    </tr>\n",
       "  </tbody>\n",
       "</table>\n",
       "</div>"
      ],
      "text/plain": [
       "                                        question  \\\n",
       "0                what if i forget my credential?   \n",
       "1  what is the format a password should follow ?   \n",
       "2                 What are the shipping options?   \n",
       "3                       How do I track my order?   \n",
       "4                     What is the return policy?   \n",
       "\n",
       "                                              answer  \n",
       "0  if you forget your credential, reset it by goi...  \n",
       "1  a password should have atleast 8 characters wh...  \n",
       "2  We offer standard, expedited, and same-day shi...  \n",
       "3  To track your order, visit the 'Order History'...  \n",
       "4  You can return items within 30 days of purchas...  "
      ]
     },
     "execution_count": 25,
     "metadata": {},
     "output_type": "execute_result"
    }
   ],
   "source": [
    "\n",
    "data = [\n",
    "    {\"question\": \"what if i forget my credential?\", \"answer\": \"if you forget your credential, reset it by going to the settings page and clicking on 'Reset credentials'.\"},\n",
    "    {\"question\": \"what is the format a password should follow ?\", \"answer\": \"a password should have atleast 8 characters which includes letters, signs and numbers.\"},        \n",
    "    {\"question\": \"What are the shipping options?\", \"answer\": \"We offer standard, expedited, and same-day shipping options.\"},\n",
    "    {\"question\": \"How do I track my order?\", \"answer\": \"To track your order, visit the 'Order History' section in your account.\"},\n",
    "    {\"question\": \"What is the return policy?\", \"answer\": \"You can return items within 30 days of purchase, as long as they are in original condition.\"},\n",
    "    {\"question\": \"How can I contact customer support?\", \"answer\": \"You can reach customer support by emailing support@company.com or calling 1-800-123-4567.\"},\n",
    "    {\"question\": \"What payment methods are accepted?\", \"answer\": \"We accept credit cards, debit cards, and PayPal.\"},\n",
    "    {\"question\": \"how to reset username?\", \"answer\": \" reset username by going to the settings page and clicking on 'Reset credentials'. click 'Reset username'\"},\n",
    "    {\"question\": \"How do I cancel my order?\", \"answer\": \"To cancel your order, go to 'Order History' and click 'Cancel Order' before it ships.\"},\n",
    "    {\"question\": \"Are gift cards available?\", \"answer\": \"Yes, you can purchase gift cards in denominations of $25, $50, $100, and more.\"},\n",
    "    {\"question\": \"Can I change my shipping address?\", \"answer\": \"Yes, you can update your shipping address before the order is shipped.\"},\n",
    "    {\"question\": \"Do you ship internationally?\", \"answer\": \"Yes, we ship to over 50 countries worldwide. Shipping rates may vary.\"},\n",
    "    {\"question\": \"Is there a loyalty program?\", \"answer\": \"Yes, members earn points on every purchase which can be redeemed for discounts.\"},\n",
    "    {\"question\": \"How do I report a damaged item?\", \"answer\": \"Contact customer support with a photo of the damaged item within 7 days of receipt.\"},\n",
    "    {\"question\": \"Can I expedite my order?\", \"answer\": \"Yes, choose expedited shipping during checkout for faster delivery.\"},\n",
    "    {\"question\": \"What is the warranty policy?\", \"answer\": \"Products come with a one-year warranty. Some exclusions apply.\"},\n",
    "    {\"question\": \"How do I unsubscribe from newsletters?\", \"answer\": \"Click the 'Unsubscribe' link at the bottom of any newsletter email.\"},\n",
    "    {\"question\": \"Do you have a mobile app?\", \"answer\": \"Yes, download our app from the App Store or Google Play for a better shopping experience.\"}, \n",
    "    {\"question\": \"Can I preorder items?\", \"answer\": \"Yes, items available for preorder will be marked on the product page.\"},\n",
    "    {\"question\": \"How do I update my account information?\", \"answer\": \"Go to the 'Account Settings' page to update your personal information.\"},\n",
    "    {\"question\": \"Can I schedule a delivery time?\", \"answer\": \"Delivery scheduling is available for select products. Check during checkout.\"},\n",
    "    {\"question\": \"Do you offer price matching?\", \"answer\": \"Yes, we match competitor prices on identical items. Contact support for details.\"},\n",
    "    {\"question\": \"Can I buy items in bulk?\", \"answer\": \"Yes, we offer bulk discounts for select items. Contact sales for pricing.\"},\n",
    "    {\"question\": \"How do I apply a promo code?\", \"answer\": \"Enter your promo code at checkout in the designated field before completing your purchase.\"},\n",
    "    {\"question\": \"Can I split my payment between multiple cards?\", \"answer\": \"Currently, we do not support split payments between multiple credit cards.\"},\n",
    "    {\"question\": \"What happens if an item is out of stock?\", \"answer\": \"If an item is out of stock, you can sign up for a notification when it becomes available again.\"},\n",
    "    {\"question\": \"How do I delete my account?\", \"answer\": \"To delete your account, please contact customer support for assistance.\"},\n",
    "    {\"question\": \"Do you offer financing options?\", \"answer\": \"Yes, we offer financing through our partner services. Check eligibility at checkout.\"},\n",
    "    {\"question\": \"How do I request a refund?\", \"answer\": \"Refunds can be requested through 'Order History' or by contacting customer support.\"},\n",
    "    {\"question\": \"What should I do if I received the wrong item?\", \"answer\": \"If you received the wrong item, contact support to arrange a return and replacement.\"},\n",
    "    {\"question\": \"Are there any subscription services?\", \"answer\": \"Yes, we offer subscription services for select products with discounts for recurring deliveries.\"},\n",
    "    {\"question\": \"Can I update my payment method?\", \"answer\": \"Yes, go to 'Account Settings' and update your payment information.\"},\n",
    "    {\"question\": \"Do you offer eco-friendly packaging?\", \"answer\": \"Yes, we have eco-friendly packaging options for select products.\"},\n",
    "    {\"question\": \"Is gift wrapping available?\", \"answer\": \"Yes, you can add gift wrapping to your order at checkout.\"},\n",
    "    {\"question\": \"How do I refer a friend?\", \"answer\": \"Use your referral link to invite friends and earn rewards when they make a purchase.\"},\n",
    "    {\"question\": \"What security measures do you have for my data?\", \"answer\": \"We use encryption and secure servers to protect your personal information.\"},\n",
    "    {\"question\": \"How do I sign up for text notifications?\", \"answer\": \"You can enable text notifications in your account settings.\"},\n",
    "    {\"question\": \"Are there any student discounts?\", \"answer\": \"Yes, students can verify their status to receive exclusive discounts.\"},\n",
    "    {\"question\": \"How do I become an affiliate?\", \"answer\": \"Apply for our affiliate program on our website to earn commissions on referrals.\"},\n",
    "    {\"question\": \"Can I customize my order?\", \"answer\": \"Some items allow customization. Check the product page for options.\"},\n",
    "    {\"question\": \"What happens if my package is lost?\", \"answer\": \"Contact customer support to start an investigation and request a replacement or refund.\"}\n",
    "]\n",
    "\n",
    "\n",
    "# Convert  dataset to a DataFrame\n",
    "df = pd.DataFrame(data)\n",
    "df.head(5)\n"
   ]
  },
  {
   "cell_type": "markdown",
   "metadata": {},
   "source": [
    "### Generating  embeddings"
   ]
  },
  {
   "cell_type": "markdown",
   "metadata": {},
   "source": [
    "#### 1. Binary embedding"
   ]
  },
  {
   "cell_type": "code",
   "execution_count": 26,
   "metadata": {},
   "outputs": [],
   "source": [
    "# Convert Text to TF-IDF Vectors\n",
    "vectorizer = TfidfVectorizer(max_features=128)\n",
    "question_embeddings = vectorizer.fit_transform(df['question']).toarray()"
   ]
  },
  {
   "cell_type": "code",
   "execution_count": 27,
   "metadata": {},
   "outputs": [],
   "source": [
    "# Convert TF-IDF Vectors to Binary Vectors\n",
    "binarizer = Binarizer(threshold=0.5)\n",
    "binary_question_embeddings = binarizer.transform(question_embeddings)"
   ]
  },
  {
   "cell_type": "code",
   "execution_count": 28,
   "metadata": {},
   "outputs": [
    {
     "data": {
      "text/html": [
       "<div>\n",
       "<style scoped>\n",
       "    .dataframe tbody tr th:only-of-type {\n",
       "        vertical-align: middle;\n",
       "    }\n",
       "\n",
       "    .dataframe tbody tr th {\n",
       "        vertical-align: top;\n",
       "    }\n",
       "\n",
       "    .dataframe thead th {\n",
       "        text-align: right;\n",
       "    }\n",
       "</style>\n",
       "<table border=\"1\" class=\"dataframe\">\n",
       "  <thead>\n",
       "    <tr style=\"text-align: right;\">\n",
       "      <th></th>\n",
       "      <th>question</th>\n",
       "      <th>answer</th>\n",
       "      <th>binary_question_embedding</th>\n",
       "    </tr>\n",
       "  </thead>\n",
       "  <tbody>\n",
       "    <tr>\n",
       "      <th>0</th>\n",
       "      <td>what if i forget my credential?</td>\n",
       "      <td>if you forget your credential, reset it by goi...</td>\n",
       "      <td>b'\\x00\\x00\\x10\\x00\\x04\\x00\\x00\\x00\\x00\\x00\\x00...</td>\n",
       "    </tr>\n",
       "    <tr>\n",
       "      <th>1</th>\n",
       "      <td>what is the format a password should follow ?</td>\n",
       "      <td>a password should have atleast 8 characters wh...</td>\n",
       "      <td>b'\\x00\\x00\\x00\\x00\\x00\\x00\\x00\\x00\\x00\\x00\\x00...</td>\n",
       "    </tr>\n",
       "    <tr>\n",
       "      <th>2</th>\n",
       "      <td>What are the shipping options?</td>\n",
       "      <td>We offer standard, expedited, and same-day shi...</td>\n",
       "      <td>b'\\x00\\x00\\x00\\x00\\x00\\x00\\x00\\x80\\x00\\x00@\\x0...</td>\n",
       "    </tr>\n",
       "    <tr>\n",
       "      <th>3</th>\n",
       "      <td>How do I track my order?</td>\n",
       "      <td>To track your order, visit the 'Order History'...</td>\n",
       "      <td>b'\\x00\\x00\\x00\\x00\\x00\\x00\\x00\\x00\\x01\\x00\\x00...</td>\n",
       "    </tr>\n",
       "    <tr>\n",
       "      <th>4</th>\n",
       "      <td>What is the return policy?</td>\n",
       "      <td>You can return items within 30 days of purchas...</td>\n",
       "      <td>b'\\x00\\x00\\x00\\x00\\x00\\x00\\x00\\x00@\\x00\\x02\\x0...</td>\n",
       "    </tr>\n",
       "  </tbody>\n",
       "</table>\n",
       "</div>"
      ],
      "text/plain": [
       "                                        question  \\\n",
       "0                what if i forget my credential?   \n",
       "1  what is the format a password should follow ?   \n",
       "2                 What are the shipping options?   \n",
       "3                       How do I track my order?   \n",
       "4                     What is the return policy?   \n",
       "\n",
       "                                              answer  \\\n",
       "0  if you forget your credential, reset it by goi...   \n",
       "1  a password should have atleast 8 characters wh...   \n",
       "2  We offer standard, expedited, and same-day shi...   \n",
       "3  To track your order, visit the 'Order History'...   \n",
       "4  You can return items within 30 days of purchas...   \n",
       "\n",
       "                           binary_question_embedding  \n",
       "0  b'\\x00\\x00\\x10\\x00\\x04\\x00\\x00\\x00\\x00\\x00\\x00...  \n",
       "1  b'\\x00\\x00\\x00\\x00\\x00\\x00\\x00\\x00\\x00\\x00\\x00...  \n",
       "2  b'\\x00\\x00\\x00\\x00\\x00\\x00\\x00\\x80\\x00\\x00@\\x0...  \n",
       "3  b'\\x00\\x00\\x00\\x00\\x00\\x00\\x00\\x00\\x01\\x00\\x00...  \n",
       "4  b'\\x00\\x00\\x00\\x00\\x00\\x00\\x00\\x00@\\x00\\x02\\x0...  "
      ]
     },
     "execution_count": 28,
     "metadata": {},
     "output_type": "execute_result"
    }
   ],
   "source": [
    "def convert_to_byte_array(binary_vector):\n",
    "    if len(binary_vector) % 8 != 0:\n",
    "        padding_length = (8 - len(binary_vector) % 8) % 8\n",
    "        binary_vector = np.pad(binary_vector, (0, padding_length), mode='constant', constant_values=0)\n",
    "    byte_array = bytearray(len(binary_vector) // 8)\n",
    "    for i, bit in enumerate(binary_vector):\n",
    "        if bit == 1:\n",
    "            index = i // 8\n",
    "            shift = i % 8\n",
    "            byte_array[index] |= (1 << shift)\n",
    "    return bytes(byte_array)\n",
    "\n",
    "binary_question_embeddings_bytes = [convert_to_byte_array(bin_emb) for bin_emb in binary_question_embeddings]\n",
    "df['binary_question_embedding'] = binary_question_embeddings_bytes\n",
    "df.head(5)"
   ]
  },
  {
   "cell_type": "markdown",
   "metadata": {},
   "source": [
    "#### 2. Dense vector embedding"
   ]
  },
  {
   "cell_type": "code",
   "execution_count": 29,
   "metadata": {},
   "outputs": [
    {
     "data": {
      "text/html": [
       "<div>\n",
       "<style scoped>\n",
       "    .dataframe tbody tr th:only-of-type {\n",
       "        vertical-align: middle;\n",
       "    }\n",
       "\n",
       "    .dataframe tbody tr th {\n",
       "        vertical-align: top;\n",
       "    }\n",
       "\n",
       "    .dataframe thead th {\n",
       "        text-align: right;\n",
       "    }\n",
       "</style>\n",
       "<table border=\"1\" class=\"dataframe\">\n",
       "  <thead>\n",
       "    <tr style=\"text-align: right;\">\n",
       "      <th></th>\n",
       "      <th>question</th>\n",
       "      <th>answer</th>\n",
       "      <th>binary_question_embedding</th>\n",
       "      <th>sentence_transformer_embedding</th>\n",
       "    </tr>\n",
       "  </thead>\n",
       "  <tbody>\n",
       "    <tr>\n",
       "      <th>0</th>\n",
       "      <td>what if i forget my credential?</td>\n",
       "      <td>if you forget your credential, reset it by goi...</td>\n",
       "      <td>b'\\x00\\x00\\x10\\x00\\x04\\x00\\x00\\x00\\x00\\x00\\x00...</td>\n",
       "      <td>[-0.05695605, -0.016203597, 0.0060177078, 0.02...</td>\n",
       "    </tr>\n",
       "    <tr>\n",
       "      <th>1</th>\n",
       "      <td>what is the format a password should follow ?</td>\n",
       "      <td>a password should have atleast 8 characters wh...</td>\n",
       "      <td>b'\\x00\\x00\\x00\\x00\\x00\\x00\\x00\\x00\\x00\\x00\\x00...</td>\n",
       "      <td>[0.011928552, 0.0060997354, -0.12134363, -0.09...</td>\n",
       "    </tr>\n",
       "    <tr>\n",
       "      <th>2</th>\n",
       "      <td>What are the shipping options?</td>\n",
       "      <td>We offer standard, expedited, and same-day shi...</td>\n",
       "      <td>b'\\x00\\x00\\x00\\x00\\x00\\x00\\x00\\x80\\x00\\x00@\\x0...</td>\n",
       "      <td>[-0.0145034725, 0.020202648, 0.035312906, 0.07...</td>\n",
       "    </tr>\n",
       "    <tr>\n",
       "      <th>3</th>\n",
       "      <td>How do I track my order?</td>\n",
       "      <td>To track your order, visit the 'Order History'...</td>\n",
       "      <td>b'\\x00\\x00\\x00\\x00\\x00\\x00\\x00\\x00\\x01\\x00\\x00...</td>\n",
       "      <td>[0.01565075, -0.062447622, 0.03897734, 0.00335...</td>\n",
       "    </tr>\n",
       "    <tr>\n",
       "      <th>4</th>\n",
       "      <td>What is the return policy?</td>\n",
       "      <td>You can return items within 30 days of purchas...</td>\n",
       "      <td>b'\\x00\\x00\\x00\\x00\\x00\\x00\\x00\\x00@\\x00\\x02\\x0...</td>\n",
       "      <td>[-0.03421611, 0.0654714, 0.026852747, 0.013523...</td>\n",
       "    </tr>\n",
       "  </tbody>\n",
       "</table>\n",
       "</div>"
      ],
      "text/plain": [
       "                                        question  \\\n",
       "0                what if i forget my credential?   \n",
       "1  what is the format a password should follow ?   \n",
       "2                 What are the shipping options?   \n",
       "3                       How do I track my order?   \n",
       "4                     What is the return policy?   \n",
       "\n",
       "                                              answer  \\\n",
       "0  if you forget your credential, reset it by goi...   \n",
       "1  a password should have atleast 8 characters wh...   \n",
       "2  We offer standard, expedited, and same-day shi...   \n",
       "3  To track your order, visit the 'Order History'...   \n",
       "4  You can return items within 30 days of purchas...   \n",
       "\n",
       "                           binary_question_embedding  \\\n",
       "0  b'\\x00\\x00\\x10\\x00\\x04\\x00\\x00\\x00\\x00\\x00\\x00...   \n",
       "1  b'\\x00\\x00\\x00\\x00\\x00\\x00\\x00\\x00\\x00\\x00\\x00...   \n",
       "2  b'\\x00\\x00\\x00\\x00\\x00\\x00\\x00\\x80\\x00\\x00@\\x0...   \n",
       "3  b'\\x00\\x00\\x00\\x00\\x00\\x00\\x00\\x00\\x01\\x00\\x00...   \n",
       "4  b'\\x00\\x00\\x00\\x00\\x00\\x00\\x00\\x00@\\x00\\x02\\x0...   \n",
       "\n",
       "                      sentence_transformer_embedding  \n",
       "0  [-0.05695605, -0.016203597, 0.0060177078, 0.02...  \n",
       "1  [0.011928552, 0.0060997354, -0.12134363, -0.09...  \n",
       "2  [-0.0145034725, 0.020202648, 0.035312906, 0.07...  \n",
       "3  [0.01565075, -0.062447622, 0.03897734, 0.00335...  \n",
       "4  [-0.03421611, 0.0654714, 0.026852747, 0.013523...  "
      ]
     },
     "execution_count": 29,
     "metadata": {},
     "output_type": "execute_result"
    }
   ],
   "source": [
    "# Generate Dense Vector Embeddings\n",
    "sentence_transformer_model = SentenceTransformer('all-MiniLM-L6-v2')\n",
    "sentence_transformer_embeddings = sentence_transformer_model.encode(df['question'].tolist())\n",
    "df['sentence_transformer_embedding'] = list(sentence_transformer_embeddings)\n",
    "df.head(5)"
   ]
  },
  {
   "cell_type": "markdown",
   "metadata": {},
   "source": [
    "### Comparing the memory usage - binary embedding v/s dense vector embedding"
   ]
  },
  {
   "cell_type": "code",
   "execution_count": 30,
   "metadata": {},
   "outputs": [
    {
     "name": "stdout",
     "output_type": "stream",
     "text": [
      "Memory usage of TF-IDF binary embeddings: 1927 bytes\n",
      "Memory usage of Sentence Transformer embeddings: 4592 bytes\n"
     ]
    }
   ],
   "source": [
    "def calculate_memory_usage(column):\n",
    "    return sum(sys.getsizeof(item) for item in column)\n",
    "\n",
    "tfidf_memory_usage = calculate_memory_usage(df['binary_question_embedding'])\n",
    "sentence_transformer_memory_usage = calculate_memory_usage(df['sentence_transformer_embedding'])\n",
    "\n",
    "print(f\"Memory usage of TF-IDF binary embeddings: {tfidf_memory_usage} bytes\")\n",
    "print(f\"Memory usage of Sentence Transformer embeddings: {sentence_transformer_memory_usage} bytes\")"
   ]
  },
  {
   "cell_type": "code",
   "execution_count": 31,
   "metadata": {},
   "outputs": [
    {
     "data": {
      "image/png": "[encoded data removed]",
      "text/plain": [
       "<Figure size 800x400 with 1 Axes>"
      ]
     },
     "metadata": {},
     "output_type": "display_data"
    }
   ],
   "source": [
    "import matplotlib.pyplot as plt\n",
    "# Create a bar chart to visualize memory usage\n",
    "embedding_types = ['TF-IDF Binary Embeddings', 'Sentence transformer Embedding (dense)']\n",
    "memory_usages = [tfidf_memory_usage, sentence_transformer_memory_usage]\n",
    "\n",
    "plt.figure(figsize=(8, 4))\n",
    "plt.bar(embedding_types, memory_usages, color=['blue', 'orange'])\n",
    "plt.title('Memory Usage Comparison of Embeddings')\n",
    "plt.xlabel('Embedding Type')\n",
    "plt.ylabel('Memory Usage (Bytes)')\n",
    "plt.yscale('log')  # Use log scale for better visualization if memory usage varies significantly\n",
    "plt.grid(axis='y', linestyle='--', alpha=0.7)\n",
    "\n",
    "# Add memory usage values on top of the bars\n",
    "for i, value in enumerate(memory_usages):\n",
    "    plt.text(i, value, f'{value:,} bytes', ha='center', va='bottom')\n",
    "\n",
    "plt.show()"
   ]
  },
  {
   "cell_type": "markdown",
   "metadata": {},
   "source": [
    "### Connect to Milvus"
   ]
  },
  {
   "cell_type": "code",
   "execution_count": null,
   "metadata": {},
   "outputs": [
    {
     "name": "stdout",
     "output_type": "stream",
     "text": [
      "milvus connected\n"
     ]
    }
   ],
   "source": [
    "from pymilvus import connections, Collection, FieldSchema, DataType, CollectionSchema\n",
    "\n",
    "# Replace Placeholder Values <> with respective provisioned Milvus Values .\n",
    "\"\"\"# On Prem\n",
    "connections.connect(\n",
    "            alias='default',\n",
    "            host=\"<>\",\n",
    "            port=443,\n",
    "            secure=True,\n",
    "            server_pem_path=\"\",\n",
    "            server_name=\"<>\",\n",
    "            user=\"<>\",\n",
    "            password=\"<>\")\n",
    "# SaaS\n",
    "connections.connect(\n",
    "            alias='default',\n",
    "            host=\"<>\",\n",
    "            port=\"<>\",\n",
    "            secure=True,\n",
    "            user=\"<>\",\n",
    "            password=\"<>\")\"\"\"\n",
    "print(\"milvus connected\")\n",
    "\n"
   ]
  },
  {
   "cell_type": "markdown",
   "metadata": {},
   "source": [
    "### Create Milvus Schema and Collection"
   ]
  },
  {
   "cell_type": "code",
   "execution_count": 33,
   "metadata": {},
   "outputs": [
    {
     "name": "stdout",
     "output_type": "stream",
     "text": [
      "collection created\n"
     ]
    }
   ],
   "source": [
    "collection_name = \"customer_support_chatbot\"\n",
    "if utility.has_collection(collection_name):\n",
    "    utility.drop_collection(collection_name)\n",
    "\n",
    "fields = [\n",
    "    FieldSchema(name=\"question\", dtype=DataType.VARCHAR, is_primary=True, max_length=1048, description=\"The question text\"),\n",
    "    FieldSchema(name=\"answer\", dtype=DataType.VARCHAR, max_length=1048),\n",
    "    FieldSchema(name=\"binary_question_embedding\", dtype=DataType.BINARY_VECTOR, dim=112, description=\"The binary embedding of the question\"),\n",
    "]\n",
    "\n",
    "schema = CollectionSchema(fields, description=\"Customer support chatbot question binary embeddings\")\n",
    "collection = Collection(name=collection_name, schema=schema)\n",
    "print(\"collection created\")"
   ]
  },
  {
   "cell_type": "markdown",
   "metadata": {},
   "source": [
    "### Insert data"
   ]
  },
  {
   "cell_type": "code",
   "execution_count": 34,
   "metadata": {},
   "outputs": [
    {
     "data": {
      "text/plain": [
       "(insert count: 41, delete count: 0, upsert count: 0, timestamp: 456274223101378564, success count: 41, err count: 0"
      ]
     },
     "execution_count": 34,
     "metadata": {},
     "output_type": "execute_result"
    }
   ],
   "source": [
    "data = [\n",
    "    df['question'].tolist(),  # Questions\n",
    "    df['answer'].tolist(),\n",
    "    [embedding for embedding in df['binary_question_embedding'].tolist()]  # Binary embeddings\n",
    "]\n",
    "collection.insert(data)"
   ]
  },
  {
   "cell_type": "markdown",
   "metadata": {},
   "source": [
    "### create index and load data"
   ]
  },
  {
   "cell_type": "code",
   "execution_count": 35,
   "metadata": {},
   "outputs": [],
   "source": [
    "index_params = {\n",
    "    \"metric_type\": \"HAMMING\",  # Metric type for binary vectors\n",
    "    \"index_type\": \"BIN_IVF_FLAT\",  # Index type for binary vectors\n",
    "    \"params\": {\"nlist\": 128}  # Index parameter\n",
    "}\n",
    "collection.create_index(field_name=\"binary_question_embedding\", index_params=index_params)\n",
    "collection.load()"
   ]
  },
  {
   "cell_type": "markdown",
   "metadata": {},
   "source": [
    "### Search with Binary Embeddings"
   ]
  },
  {
   "cell_type": "code",
   "execution_count": 36,
   "metadata": {},
   "outputs": [
    {
     "name": "stdout",
     "output_type": "stream",
     "text": [
      "\n",
      "Query: i forgot my credential?\n",
      "\n",
      "Search Results (Binary Embeddings):\n",
      "Answer: if you forget your credential, reset it by going to the settings page and clicking on 'Reset credentials'., Distance: 1.0\n",
      "Answer: a password should have atleast 8 characters which includes letters, signs and numbers., Distance: 1.0\n",
      "Answer: Yes, we offer bulk discounts for select items. Contact sales for pricing., Distance: 1.0\n"
     ]
    }
   ],
   "source": [
    "query_question = \"i forgot my credential?\"\n",
    "query_embedding = vectorizer.transform([query_question]).toarray()\n",
    "binary_query_embedding = binarizer.transform(query_embedding)[0]\n",
    "binary_query_embedding_bytes = convert_to_byte_array(binary_query_embedding)\n",
    "\n",
    "search_params = {\"metric_type\": \"HAMMING\", \"params\": {\"nprobe\": 16}}\n",
    "results = collection.search(\n",
    "    data=[binary_query_embedding_bytes], \n",
    "    anns_field=\"binary_question_embedding\",\n",
    "    param=search_params,\n",
    "    limit=3,  # Limit to 3 closest matches\n",
    "    output_fields=[\"question\", \"binary_question_embedding\", \"answer\"]\n",
    ")\n",
    "\n",
    "print(\"\\nQuery:\", query_question)\n",
    "print(\"\\nSearch Results (Binary Embeddings):\")\n",
    "for hit in results[0]:\n",
    "    print(f\"Answer: {hit.entity.get('answer')}, Distance: {hit.distance}\")"
   ]
  },
  {
   "cell_type": "markdown",
   "metadata": {},
   "source": [
    "### Search with Sentence Transformer Embeddings"
   ]
  },
  {
   "cell_type": "code",
   "execution_count": 37,
   "metadata": {},
   "outputs": [
    {
     "name": "stdout",
     "output_type": "stream",
     "text": [
      "collection for Sentence Transformer embeddings created\n",
      "\n",
      "Search Results (Sentence Transformer Embeddings):\n",
      "Answer: if you forget your credential, reset it by going to the settings page and clicking on 'Reset credentials'., Distance: 0.2657339572906494\n",
      "Answer:  reset username by going to the settings page and clicking on 'Reset credentials'. click 'Reset username', Distance: 1.1546971797943115\n",
      "Answer: Go to the 'Account Settings' page to update your personal information., Distance: 1.2811033725738525\n"
     ]
    }
   ],
   "source": [
    "query_embedding_st = sentence_transformer_model.encode([query_question])[0]\n",
    "\n",
    "# Create a new collection for Sentence Transformer embeddings\n",
    "collection_name_st = \"customer_support_chatbot_st\"\n",
    "if utility.has_collection(collection_name_st):\n",
    "    utility.drop_collection(collection_name_st)\n",
    "\n",
    "fields_st = [\n",
    "    FieldSchema(name=\"question\", dtype=DataType.VARCHAR, is_primary=True, max_length=1048, description=\"The question text\"),\n",
    "    FieldSchema(name=\"answer\", dtype=DataType.VARCHAR, max_length=1048),\n",
    "    FieldSchema(name=\"sentence_transformer_embedding\", dtype=DataType.FLOAT_VECTOR, dim=384, description=\"The Sentence Transformer embedding of the question\"),\n",
    "]\n",
    "\n",
    "schema_st = CollectionSchema(fields_st, description=\"Customer support chatbot question Sentence Transformer embeddings\")\n",
    "collection_st = Collection(name=collection_name_st, schema=schema_st)\n",
    "print(\"collection for Sentence Transformer embeddings created\")\n",
    "\n",
    "# Insert data into the new collection\n",
    "data_st = [\n",
    "    df['question'].tolist(),  # Questions\n",
    "    df['answer'].tolist(),\n",
    "    [embedding for embedding in df['sentence_transformer_embedding'].tolist()]  # Sentence Transformer embeddings\n",
    "]\n",
    "collection_st.insert(data_st)\n",
    "\n",
    "# Create index for Sentence Transformer embeddings\n",
    "index_params_st = {\n",
    "    \"metric_type\": \"L2\",  # Metric type for dense vectors\n",
    "    \"index_type\": \"IVF_FLAT\",  # Index type for dense vectors\n",
    "    \"params\": {\"nlist\": 128}  # Index parameter\n",
    "}\n",
    "collection_st.create_index(field_name=\"sentence_transformer_embedding\", index_params=index_params_st)\n",
    "collection_st.load()\n",
    "\n",
    "# Perform the search with Sentence Transformer embeddings\n",
    "search_params_st = {\"metric_type\": \"L2\", \"params\": {\"nprobe\": 16}}\n",
    "results_st = collection_st.search(\n",
    "    data=[query_embedding_st], \n",
    "    anns_field=\"sentence_transformer_embedding\",\n",
    "    param=search_params_st,\n",
    "    limit=3,  # Limit to 3 closest matches\n",
    "    output_fields=[\"question\", \"sentence_transformer_embedding\", \"answer\"]\n",
    ")\n",
    "\n",
    "print(\"\\nSearch Results (Sentence Transformer Embeddings):\")\n",
    "for hit in results_st[0]:\n",
    "    print(f\"Answer: {hit.entity.get('answer')}, Distance: {hit.distance}\")"
   ]
  },
  {
   "cell_type": "markdown",
   "metadata": {},
   "source": [
    "### Comparison of search results"
   ]
  },
  {
   "cell_type": "code",
   "execution_count": 38,
   "metadata": {},
   "outputs": [
    {
     "name": "stdout",
     "output_type": "stream",
     "text": [
      "\n",
      "Comparison of Search Results:\n",
      "\n",
      "Query:  i forgot my credential?\n",
      "\n",
      "Binary Embeddings:\n",
      "Answer: if you forget your credential, reset it by going to the settings page and clicking on 'Reset credentials'., Distance: 1.0\n",
      "Answer: a password should have atleast 8 characters which includes letters, signs and numbers., Distance: 1.0\n",
      "Answer: Yes, we offer bulk discounts for select items. Contact sales for pricing., Distance: 1.0\n",
      "\n",
      "Sentence Transformer Embeddings:\n",
      "Answer: if you forget your credential, reset it by going to the settings page and clicking on 'Reset credentials'., Distance: 0.2657339572906494\n",
      "Answer:  reset username by going to the settings page and clicking on 'Reset credentials'. click 'Reset username', Distance: 1.1546971797943115\n",
      "Answer: Go to the 'Account Settings' page to update your personal information., Distance: 1.2811033725738525\n"
     ]
    }
   ],
   "source": [
    "\n",
    "print(\"\\nComparison of Search Results:\")\n",
    "print(\"\\nQuery: \",query_question)\n",
    "print(\"\\nBinary Embeddings:\")\n",
    "for hit in results[0]:\n",
    "    print(f\"Answer: {hit.entity.get('answer')}, Distance: {hit.distance}\")\n",
    "\n",
    "print(\"\\nSentence Transformer Embeddings:\")\n",
    "for hit in results_st[0]:\n",
    "    print(f\"Answer: {hit.entity.get('answer')}, Distance: {hit.distance}\")"
   ]
  },
  {
   "cell_type": "markdown",
   "metadata": {},
   "source": [
    "### Conclusion\n",
    "Binary embeddings are more memory-efficient; however, they come at the cost of accuracy. As shown in the results below, the responses retrieved using binary embeddings are less relevant to the query compared to those from other alternative approach."
   ]
  },
  {
   "cell_type": "markdown",
   "metadata": {},
   "source": [
    "Disclaimer - Results are subject to chamge based on quality ad quantity of your dataset. for large datasets with lot of similar text, the accuracy trade off may not be visible"
   ]
  }
 ],
 "metadata": {
  "kernelspec": {
   "display_name": "Python 3",
   "language": "python",
   "name": "python3"
  },
  "language_info": {
   "codemirror_mode": {
    "name": "ipython",
    "version": 3
   },
   "file_extension": ".py",
   "mimetype": "text/x-python",
   "name": "python",
   "nbconvert_exporter": "python",
   "pygments_lexer": "ipython3",
   "version": "3.11.9"
  }
 },
 "nbformat": 4,
 "nbformat_minor": 2
}
